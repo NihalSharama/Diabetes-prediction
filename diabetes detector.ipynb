{
 "cells": [
  {
   "cell_type": "code",
   "execution_count": 1,
   "id": "1d04612b",
   "metadata": {},
   "outputs": [],
   "source": [
    "import pandas as pd\n",
    "import numpy as np"
   ]
  },
  {
   "cell_type": "code",
   "execution_count": 2,
   "id": "17556eec",
   "metadata": {},
   "outputs": [],
   "source": [
    "import time\n",
    "import seaborn as sns\n",
    "import matplotlib.pyplot as plt"
   ]
  },
  {
   "cell_type": "code",
   "execution_count": 3,
   "id": "cccc2a3a",
   "metadata": {},
   "outputs": [],
   "source": [
    "from sklearn.metrics import confusion_matrix , classification_report , accuracy_score\n",
    "from sklearn.model_selection import train_test_split , GridSearchCV\n",
    "from sklearn.impute import SimpleImputer"
   ]
  },
  {
   "cell_type": "code",
   "execution_count": 4,
   "id": "b30d9cde",
   "metadata": {},
   "outputs": [],
   "source": [
    "from sklearn.ensemble import RandomForestClassifier"
   ]
  },
  {
   "cell_type": "code",
   "execution_count": 5,
   "id": "288114e8",
   "metadata": {},
   "outputs": [],
   "source": [
    "%matplotlib inline"
   ]
  },
  {
   "cell_type": "code",
   "execution_count": 6,
   "id": "8a621852",
   "metadata": {},
   "outputs": [],
   "source": [
    "df = pd.read_csv('diabetes.csv')"
   ]
  },
  {
   "cell_type": "code",
   "execution_count": 7,
   "id": "8c3a99fa",
   "metadata": {},
   "outputs": [
    {
     "data": {
      "text/html": [
       "<div>\n",
       "<style scoped>\n",
       "    .dataframe tbody tr th:only-of-type {\n",
       "        vertical-align: middle;\n",
       "    }\n",
       "\n",
       "    .dataframe tbody tr th {\n",
       "        vertical-align: top;\n",
       "    }\n",
       "\n",
       "    .dataframe thead th {\n",
       "        text-align: right;\n",
       "    }\n",
       "</style>\n",
       "<table border=\"1\" class=\"dataframe\">\n",
       "  <thead>\n",
       "    <tr style=\"text-align: right;\">\n",
       "      <th></th>\n",
       "      <th>Pregnancies</th>\n",
       "      <th>Glucose</th>\n",
       "      <th>BloodPressure</th>\n",
       "      <th>SkinThickness</th>\n",
       "      <th>Insulin</th>\n",
       "      <th>BMI</th>\n",
       "      <th>DiabetesPedigreeFunction</th>\n",
       "      <th>Age</th>\n",
       "      <th>Outcome</th>\n",
       "    </tr>\n",
       "  </thead>\n",
       "  <tbody>\n",
       "    <tr>\n",
       "      <th>0</th>\n",
       "      <td>6</td>\n",
       "      <td>148</td>\n",
       "      <td>72</td>\n",
       "      <td>35</td>\n",
       "      <td>0</td>\n",
       "      <td>33.6</td>\n",
       "      <td>0.627</td>\n",
       "      <td>50</td>\n",
       "      <td>1</td>\n",
       "    </tr>\n",
       "    <tr>\n",
       "      <th>1</th>\n",
       "      <td>1</td>\n",
       "      <td>85</td>\n",
       "      <td>66</td>\n",
       "      <td>29</td>\n",
       "      <td>0</td>\n",
       "      <td>26.6</td>\n",
       "      <td>0.351</td>\n",
       "      <td>31</td>\n",
       "      <td>0</td>\n",
       "    </tr>\n",
       "    <tr>\n",
       "      <th>2</th>\n",
       "      <td>8</td>\n",
       "      <td>183</td>\n",
       "      <td>64</td>\n",
       "      <td>0</td>\n",
       "      <td>0</td>\n",
       "      <td>23.3</td>\n",
       "      <td>0.672</td>\n",
       "      <td>32</td>\n",
       "      <td>1</td>\n",
       "    </tr>\n",
       "    <tr>\n",
       "      <th>3</th>\n",
       "      <td>1</td>\n",
       "      <td>89</td>\n",
       "      <td>66</td>\n",
       "      <td>23</td>\n",
       "      <td>94</td>\n",
       "      <td>28.1</td>\n",
       "      <td>0.167</td>\n",
       "      <td>21</td>\n",
       "      <td>0</td>\n",
       "    </tr>\n",
       "    <tr>\n",
       "      <th>4</th>\n",
       "      <td>0</td>\n",
       "      <td>137</td>\n",
       "      <td>40</td>\n",
       "      <td>35</td>\n",
       "      <td>168</td>\n",
       "      <td>43.1</td>\n",
       "      <td>2.288</td>\n",
       "      <td>33</td>\n",
       "      <td>1</td>\n",
       "    </tr>\n",
       "  </tbody>\n",
       "</table>\n",
       "</div>"
      ],
      "text/plain": [
       "   Pregnancies  Glucose  BloodPressure  SkinThickness  Insulin   BMI  \\\n",
       "0            6      148             72             35        0  33.6   \n",
       "1            1       85             66             29        0  26.6   \n",
       "2            8      183             64              0        0  23.3   \n",
       "3            1       89             66             23       94  28.1   \n",
       "4            0      137             40             35      168  43.1   \n",
       "\n",
       "   DiabetesPedigreeFunction  Age  Outcome  \n",
       "0                     0.627   50        1  \n",
       "1                     0.351   31        0  \n",
       "2                     0.672   32        1  \n",
       "3                     0.167   21        0  \n",
       "4                     2.288   33        1  "
      ]
     },
     "execution_count": 7,
     "metadata": {},
     "output_type": "execute_result"
    }
   ],
   "source": [
    "df.head()"
   ]
  },
  {
   "cell_type": "raw",
   "id": "df45f9a6",
   "metadata": {},
   "source": [
    "df.info()"
   ]
  },
  {
   "cell_type": "code",
   "execution_count": 8,
   "id": "8baac062",
   "metadata": {},
   "outputs": [
    {
     "data": {
      "text/plain": [
       "False"
      ]
     },
     "execution_count": 8,
     "metadata": {},
     "output_type": "execute_result"
    }
   ],
   "source": [
    "# checking if there is any null data point\n",
    "df.isnull().values.any()"
   ]
  },
  {
   "cell_type": "code",
   "execution_count": null,
   "id": "3a205127",
   "metadata": {},
   "outputs": [],
   "source": [
    "sns.pairplot(df , hue='Outcome')"
   ]
  },
  {
   "cell_type": "code",
   "execution_count": null,
   "id": "9438a307",
   "metadata": {},
   "outputs": [],
   "source": [
    "# finding Correlation between each and every columns\n",
    "\n",
    "corr = df.corr()\n",
    "\n",
    "plt.figure(figsize=(20,15))\n",
    "sns.heatmap(corr , annot=True , cmap='viridis')"
   ]
  },
  {
   "cell_type": "code",
   "execution_count": null,
   "id": "28331abe",
   "metadata": {},
   "outputs": [],
   "source": [
    "diabetes_true_count = len(df.loc[df['Outcome'] == 1])\n",
    "diabetes_false_count = len(df.loc[df['Outcome'] == 0])"
   ]
  },
  {
   "cell_type": "code",
   "execution_count": null,
   "id": "dc161c3b",
   "metadata": {},
   "outputs": [],
   "source": [
    "print(f'Number of Diabetic peoples: {diabetes_true_count}')\n",
    "print(f'Number of Non Diabetic peoples: {diabetes_false_count}')"
   ]
  },
  {
   "cell_type": "markdown",
   "id": "cf7529c4",
   "metadata": {},
   "source": [
    "# Spliting the data into traning and testing data"
   ]
  },
  {
   "cell_type": "code",
   "execution_count": null,
   "id": "55542172",
   "metadata": {},
   "outputs": [],
   "source": [
    "x = df.drop('Outcome' , axis=1)\n",
    "y = df['Outcome']\n",
    "\n",
    "x_train , x_test, y_train , y_test = train_test_split(x , y , test_size=0.3 , random_state=101)"
   ]
  },
  {
   "cell_type": "markdown",
   "id": "172f3ddc",
   "metadata": {},
   "source": [
    "#  checking for any meaning less values for ex. age = 0     /(O_X)\\ "
   ]
  },
  {
   "cell_type": "code",
   "execution_count": null,
   "id": "560499bd",
   "metadata": {},
   "outputs": [],
   "source": [
    "print(f'Number of rows: {len(df)}')\n",
    "print(f\"Number of missing Glucose values: {len(df.loc[df['Glucose'] == 0])}\")\n",
    "print(f\"Number of missing BloodPressure values: {len(df.loc[df['BloodPressure'] == 0])}\")\n",
    "print(f\"Number of missing Insulin values: {len(df.loc[df['Insulin'] == 0])}\")\n",
    "print(f\"Number of missing BMI values: {len(df.loc[df['BMI'] == 0])}\")\n",
    "print(f\"Number of missing SkinThickness values: {len(df.loc[df['SkinThickness'] == 0])}\")\n",
    "print(f\"Number of missing Age values: {len(df.loc[df['Age'] == 0])}\")\n",
    "print(f\"Number of missing DiabetesPedigreeFunction values: {len(df.loc[df['DiabetesPedigreeFunction'] == 0])}\")"
   ]
  },
  {
   "cell_type": "code",
   "execution_count": null,
   "id": "dd2b1c44",
   "metadata": {},
   "outputs": [],
   "source": [
    "x_test.head()"
   ]
  },
  {
   "cell_type": "markdown",
   "id": "e24aeb63",
   "metadata": {},
   "source": [
    "# FIlling those values with average values "
   ]
  },
  {
   "cell_type": "code",
   "execution_count": null,
   "id": "0f3c44f5",
   "metadata": {},
   "outputs": [],
   "source": [
    "imputer = SimpleImputer(missing_values=0 , strategy='mean')\n",
    "\n",
    "x_train_preg = []\n",
    "x_test_preg = []\n",
    "for i in x_train['Pregnancies']:\n",
    "    x_train_preg.append(i)\n",
    "for i in x_test['Pregnancies']:\n",
    "    x_test_preg.append(i)\n",
    "\n",
    "x_train = pd.DataFrame(imputer.fit_transform(x_train) , columns=x_train.columns)\n",
    "x_train['Pregnancies'] = x_train_preg\n",
    "\n",
    "x_test = pd.DataFrame(imputer.fit_transform(x_test) , columns=x_test.columns)\n",
    "x_test['Pregnancies'] = x_test_preg"
   ]
  },
  {
   "cell_type": "code",
   "execution_count": null,
   "id": "6ec6cf8c",
   "metadata": {},
   "outputs": [],
   "source": [
    "y_train.index = np.arange(0 , len(y_train))\n",
    "y_test.index = np.arange(0 , len(y_test))"
   ]
  },
  {
   "cell_type": "code",
   "execution_count": null,
   "id": "50d04720",
   "metadata": {},
   "outputs": [],
   "source": [
    "x_test"
   ]
  },
  {
   "cell_type": "markdown",
   "id": "b6f071d6",
   "metadata": {},
   "source": [
    "# Using RandomForest model for prediction"
   ]
  },
  {
   "cell_type": "code",
   "execution_count": null,
   "id": "643e8533",
   "metadata": {},
   "outputs": [],
   "source": [
    "# traning the model \n",
    "random_forest_model = RandomForestClassifier(n_estimators=50 , random_state=1)\n",
    "\n",
    "random_forest_model.fit(x_train.values , y_train.values)"
   ]
  },
  {
   "cell_type": "code",
   "execution_count": null,
   "id": "34e66b79",
   "metadata": {},
   "outputs": [],
   "source": [
    "# testing the model\n",
    "predictions = random_forest_model.predict(x_test.values)"
   ]
  },
  {
   "cell_type": "code",
   "execution_count": null,
   "id": "1b2c268f",
   "metadata": {},
   "outputs": [],
   "source": [
    "print(f'Accuracy score is: {accuracy_score(y_test , predictions)}%')"
   ]
  },
  {
   "cell_type": "code",
   "execution_count": null,
   "id": "5ed0f995",
   "metadata": {},
   "outputs": [],
   "source": [
    "print(f'Confusion matrix of predictions:- \\n{confusion_matrix(y_test , predictions)}', end='\\n\\n')\n",
    "print(f'Classification report of predictions:- \\n{classification_report(y_test , predictions)}', end='\\n')"
   ]
  },
  {
   "cell_type": "code",
   "execution_count": null,
   "id": "e5b2f41c",
   "metadata": {},
   "outputs": [],
   "source": [
    "def predictor(Pregnancies , Glucose , BloodPressure , SkinThickness , Insulin , BMI,  DiabetesPedigreeFunction , Age):\n",
    "    x_data = [[Pregnancies , Glucose , BloodPressure , SkinThickness , Insulin , BMI , DiabetesPedigreeFunction , Age]]\n",
    "    \n",
    "    prediction = random_forest_model.predict(x_data)\n",
    "        \n",
    "    if prediction[0] == 0:\n",
    "        return \"\\nCongrats.... you are not diabetic but you sould have a consultaion with doctor\"\n",
    "    \n",
    "    elif prediction[0] == 1:\n",
    "        return \"It seems you are diabetic and you sould have a consultaion with doctor\""
   ]
  },
  {
   "cell_type": "markdown",
   "id": "7aba9db2",
   "metadata": {},
   "source": [
    "## mean value of every cloumn"
   ]
  },
  {
   "cell_type": "code",
   "execution_count": null,
   "id": "38284613",
   "metadata": {},
   "outputs": [],
   "source": [
    "print(f\"Mean of Glucose: {np.mean(df['Glucose'])}\")\n",
    "print(f\"Mean of BloodPressure: {np.mean(df['BloodPressure'])}\")\n",
    "print(f\"Mean of BMI: {np.mean(df['BMI'])}\")\n",
    "print(f\"Mean of Insulin: {np.mean(df['Insulin'])}\")\n",
    "print(f\"Mean of Skin-Thickness: {np.mean(df['SkinThickness'])}\")\n",
    "print(f\"Mean of Diabetes-Pedigree-Function: {np.mean(df['DiabetesPedigreeFunction'])}\")"
   ]
  },
  {
   "cell_type": "code",
   "execution_count": null,
   "id": "b0d64f4b",
   "metadata": {},
   "outputs": [],
   "source": [
    "# inputs from user\n",
    "age = int(input('Age: '))\n",
    "glucose = int(input('glucose concentration: '))\n",
    "bp = int(input('Blood pressure: '))\n",
    "number_of_pregnancies = int(input('Number of pregnancies: '))\n",
    "insulin = float(input('Insulin : '))\n",
    "skin_thickness = int(input('Skin Thickness : '))\n",
    "bmi = float(input('Body mass index : '))\n",
    "DPF = float(input('Diabetes Pedigree Fucntion : '))\n",
    "\n",
    "start_time = time.time()\n",
    "\n",
    "# sending user data to predictor function\n",
    "print(predictor(number_of_pregnancies ,glucose , bp , skin_thickness , insulin , bmi , DPF , age))\n",
    "\n",
    "print(f\"\\n Total time taken in prediction:  {time.time()-start_time}\")"
   ]
  },
  {
   "cell_type": "code",
   "execution_count": null,
   "id": "6a86717a",
   "metadata": {},
   "outputs": [],
   "source": []
  }
 ],
 "metadata": {
  "kernelspec": {
   "display_name": "Python 3 (ipykernel)",
   "language": "python",
   "name": "python3"
  },
  "language_info": {
   "codemirror_mode": {
    "name": "ipython",
    "version": 3
   },
   "file_extension": ".py",
   "mimetype": "text/x-python",
   "name": "python",
   "nbconvert_exporter": "python",
   "pygments_lexer": "ipython3",
   "version": "3.9.7"
  }
 },
 "nbformat": 4,
 "nbformat_minor": 5
}
